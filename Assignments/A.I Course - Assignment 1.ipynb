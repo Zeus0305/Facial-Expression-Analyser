{
 "cells": [
  {
   "cell_type": "code",
   "execution_count": 2,
   "id": "f8869397",
   "metadata": {},
   "outputs": [
    {
     "name": "stdout",
     "output_type": "stream",
     "text": [
      "          0         1         2         3\n",
      "0  0.225452  0.468239  0.438585  0.379396\n",
      "1  0.913924  0.848441  0.104536  0.125761\n",
      "2  0.380215  0.092957  0.278699  0.948021\n",
      "3  0.080109  0.907064  0.286663  0.323844\n"
     ]
    }
   ],
   "source": [
    "import numpy as np\n",
    "import pandas as pd\n",
    "\n",
    "s1=pd.Series(np.random.rand(4))\n",
    "s2=pd.Series(np.random.rand(4))\n",
    "s3=pd.Series(np.random.rand(4))\n",
    "s4=pd.Series(np.random.rand(4))\n",
    "\n",
    "df=pd.DataFrame([s1,s2,s3,s4]) # Question 1\n",
    "print(df)"
   ]
  },
  {
   "cell_type": "code",
   "execution_count": 4,
   "id": "8710241e",
   "metadata": {},
   "outputs": [
    {
     "name": "stdout",
     "output_type": "stream",
     "text": [
      "   Random Value 1  Random Value 2  Random Value 3  Random Value 4\n",
      "0        0.225452        0.468239        0.438585        0.379396\n",
      "1        0.913924        0.848441        0.104536        0.125761\n",
      "2        0.380215        0.092957        0.278699        0.948021\n",
      "3        0.080109        0.907064        0.286663        0.323844\n"
     ]
    }
   ],
   "source": [
    "df.columns=['Random Value 1','Random Value 2','Random Value 3','Random Value 4'] # Question 2\n",
    "print(df)"
   ]
  },
  {
   "cell_type": "code",
   "execution_count": 6,
   "id": "a82365e0",
   "metadata": {},
   "outputs": [
    {
     "name": "stdout",
     "output_type": "stream",
     "text": [
      "       Random Value 1  Random Value 2  Random Value 3  Random Value 4\n",
      "count        4.000000        4.000000        4.000000        4.000000\n",
      "mean         0.399925        0.579175        0.277121        0.444255\n",
      "std          0.363917        0.378034        0.136565        0.353046\n",
      "min          0.080109        0.092957        0.104536        0.125761\n",
      "25%          0.189116        0.374419        0.235159        0.274323\n",
      "50%          0.302833        0.658340        0.282681        0.351620\n",
      "75%          0.513642        0.863096        0.324644        0.521552\n",
      "max          0.913924        0.907064        0.438585        0.948021\n"
     ]
    }
   ],
   "source": [
    "statistics = df.describe() # Question 3\n",
    "print(statistics)"
   ]
  },
  {
   "cell_type": "code",
   "execution_count": 8,
   "id": "bbd6f623",
   "metadata": {},
   "outputs": [
    {
     "name": "stdout",
     "output_type": "stream",
     "text": [
      "   Random Value 1  Random Value 2  Random Value 3  Random Value 4\n",
      "0           False           False           False           False\n",
      "1           False           False           False           False\n",
      "2           False           False           False           False\n",
      "3           False           False           False           False\n"
     ]
    }
   ],
   "source": [
    "print(df.isnull()) # Question 4"
   ]
  },
  {
   "cell_type": "code",
   "execution_count": 10,
   "id": "23717bf3",
   "metadata": {},
   "outputs": [
    {
     "name": "stdout",
     "output_type": "stream",
     "text": [
      "Random Value 1    0\n",
      "Random Value 2    0\n",
      "Random Value 3    0\n",
      "Random Value 4    0\n",
      "dtype: int64\n"
     ]
    }
   ],
   "source": [
    "print(df.isnull().sum()) # Question 4"
   ]
  },
  {
   "cell_type": "code",
   "execution_count": 13,
   "id": "f82d068f",
   "metadata": {},
   "outputs": [
    {
     "name": "stdout",
     "output_type": "stream",
     "text": [
      "float64\n",
      "float64\n",
      "float64\n",
      "float64\n"
     ]
    }
   ],
   "source": [
    "print(df['Random Value 1'].dtype) # Question 4\n",
    "print(df['Random Value 1'].dtype)\n",
    "print(df['Random Value 1'].dtype)\n",
    "print(df['Random Value 1'].dtype)"
   ]
  },
  {
   "cell_type": "code",
   "execution_count": 14,
   "id": "f391b53d",
   "metadata": {},
   "outputs": [
    {
     "name": "stdout",
     "output_type": "stream",
     "text": [
      "   Random Value 2  Random Value 3\n",
      "0        0.468239        0.438585\n",
      "1        0.848441        0.104536\n",
      "2        0.092957        0.278699\n",
      "3        0.907064        0.286663\n",
      "   Random Value 2  Random Value 3\n",
      "0        0.468239        0.438585\n",
      "1        0.848441        0.104536\n",
      "2        0.092957        0.278699\n",
      "3        0.907064        0.286663\n"
     ]
    }
   ],
   "source": [
    "print(df.loc[:,'Random Value 2':'Random Value 3']) # Question 5\n",
    "print(df.iloc[:,1:3])"
   ]
  }
 ],
 "metadata": {
  "kernelspec": {
   "display_name": "Python 3 (ipykernel)",
   "language": "python",
   "name": "python3"
  },
  "language_info": {
   "codemirror_mode": {
    "name": "ipython",
    "version": 3
   },
   "file_extension": ".py",
   "mimetype": "text/x-python",
   "name": "python",
   "nbconvert_exporter": "python",
   "pygments_lexer": "ipython3",
   "version": "3.9.13"
  }
 },
 "nbformat": 4,
 "nbformat_minor": 5
}
